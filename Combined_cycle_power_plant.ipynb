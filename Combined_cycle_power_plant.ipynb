{
 "cells": [
  {
   "cell_type": "markdown",
   "id": "a9a48aff",
   "metadata": {},
   "source": [
    "# Importing the libraries"
   ]
  },
  {
   "cell_type": "code",
   "execution_count": 51,
   "id": "0bb26503",
   "metadata": {},
   "outputs": [],
   "source": [
    "import numpy as np\n",
    "import pandas as pd\n",
    "import matplotlib.pyplot as plt\n",
    "import tensorflow as tf"
   ]
  },
  {
   "cell_type": "code",
   "execution_count": 52,
   "id": "c5af398d",
   "metadata": {},
   "outputs": [
    {
     "data": {
      "text/plain": [
       "'2.13.0'"
      ]
     },
     "execution_count": 52,
     "metadata": {},
     "output_type": "execute_result"
    }
   ],
   "source": [
    "tf.__version__"
   ]
  },
  {
   "cell_type": "markdown",
   "id": "4bbadcff",
   "metadata": {},
   "source": [
    "# Part 1. Data preprocessing"
   ]
  },
  {
   "cell_type": "code",
   "execution_count": 53,
   "id": "019d604a",
   "metadata": {},
   "outputs": [
    {
     "name": "stdout",
     "output_type": "stream",
     "text": [
      "[[  14.96   41.76 1024.07   73.17]\n",
      " [  25.18   62.96 1020.04   59.08]\n",
      " [   5.11   39.4  1012.16   92.14]\n",
      " ...\n",
      " [  31.32   74.33 1012.92   36.48]\n",
      " [  24.48   69.45 1013.86   62.39]\n",
      " [  21.6    62.52 1017.23   67.87]]\n"
     ]
    }
   ],
   "source": [
    "dataset = pd.read_excel('Folds5x2_pp.xlsx')\n",
    "X = dataset.iloc[:,:-1].values\n",
    "Y = dataset.iloc[:,-1].values\n",
    "print(X)"
   ]
  },
  {
   "cell_type": "markdown",
   "id": "dcf26cc6",
   "metadata": {},
   "source": [
    "# Splitting the dataset into train and test sets"
   ]
  },
  {
   "cell_type": "code",
   "execution_count": 54,
   "id": "8abf5943",
   "metadata": {},
   "outputs": [],
   "source": [
    "from sklearn.model_selection import train_test_split\n",
    "X_train, X_test, Y_train, Y_test = train_test_split(X,Y,test_size =0.2, random_state=0)"
   ]
  },
  {
   "cell_type": "markdown",
   "id": "73ac8308",
   "metadata": {},
   "source": [
    "# Part 2. Building the ANN"
   ]
  },
  {
   "cell_type": "code",
   "execution_count": 55,
   "id": "14cb5c32",
   "metadata": {},
   "outputs": [],
   "source": [
    "ann = tf.keras.models.Sequential()"
   ]
  },
  {
   "cell_type": "markdown",
   "id": "b567de8e",
   "metadata": {},
   "source": [
    "# Adding the input layer and first hidden layer)"
   ]
  },
  {
   "cell_type": "code",
   "execution_count": 56,
   "id": "5fafe236",
   "metadata": {},
   "outputs": [],
   "source": [
    "ann.add(tf.keras.layers.Dense(units = 6, activation = 'relu'))"
   ]
  },
  {
   "cell_type": "markdown",
   "id": "eaea00c3",
   "metadata": {},
   "source": [
    "# Adding the second hidden layer"
   ]
  },
  {
   "cell_type": "code",
   "execution_count": 57,
   "id": "98ba9384",
   "metadata": {},
   "outputs": [],
   "source": [
    "ann.add(tf.keras.layers.Dense(units = 6, activation = 'relu'))"
   ]
  },
  {
   "cell_type": "markdown",
   "id": "28383758",
   "metadata": {},
   "source": [
    "# Adding the output layer"
   ]
  },
  {
   "cell_type": "code",
   "execution_count": 58,
   "id": "51c16b90",
   "metadata": {},
   "outputs": [],
   "source": [
    "ann.add(tf.keras.layers.Dense(units = 1))"
   ]
  },
  {
   "cell_type": "markdown",
   "id": "5a5b3daf",
   "metadata": {},
   "source": [
    "# Part 3. Training the ANN"
   ]
  },
  {
   "cell_type": "markdown",
   "id": "cf564c65",
   "metadata": {},
   "source": [
    "# Compiling the ANN"
   ]
  },
  {
   "cell_type": "code",
   "execution_count": 59,
   "id": "aa931210",
   "metadata": {},
   "outputs": [],
   "source": [
    "ann.compile(optimizer= 'adam', loss = 'mean_squared_error')"
   ]
  },
  {
   "cell_type": "markdown",
   "id": "9ac2e396",
   "metadata": {},
   "source": [
    "# Training the ANN model on the Training set"
   ]
  },
  {
   "cell_type": "code",
   "execution_count": 60,
   "id": "3ac7d9ee",
   "metadata": {},
   "outputs": [
    {
     "name": "stdout",
     "output_type": "stream",
     "text": [
      "Epoch 1/100\n",
      "240/240 [==============================] - 1s 950us/step - loss: 121025.5938\n",
      "Epoch 2/100\n",
      "240/240 [==============================] - 0s 988us/step - loss: 457.0096\n",
      "Epoch 3/100\n",
      "240/240 [==============================] - 0s 944us/step - loss: 378.8654\n",
      "Epoch 4/100\n",
      "240/240 [==============================] - 0s 868us/step - loss: 367.6532\n",
      "Epoch 5/100\n",
      "240/240 [==============================] - 0s 888us/step - loss: 355.0664\n",
      "Epoch 6/100\n",
      "240/240 [==============================] - 0s 899us/step - loss: 340.1019\n",
      "Epoch 7/100\n",
      "240/240 [==============================] - 0s 893us/step - loss: 323.5185\n",
      "Epoch 8/100\n",
      "240/240 [==============================] - 0s 963us/step - loss: 305.5293\n",
      "Epoch 9/100\n",
      "240/240 [==============================] - 0s 946us/step - loss: 286.3132\n",
      "Epoch 10/100\n",
      "240/240 [==============================] - 0s 946us/step - loss: 265.6662\n",
      "Epoch 11/100\n",
      "240/240 [==============================] - 0s 971us/step - loss: 244.5252\n",
      "Epoch 12/100\n",
      "240/240 [==============================] - 0s 921us/step - loss: 222.9150\n",
      "Epoch 13/100\n",
      "240/240 [==============================] - 0s 896us/step - loss: 200.8804\n",
      "Epoch 14/100\n",
      "240/240 [==============================] - 0s 861us/step - loss: 178.8551\n",
      "Epoch 15/100\n",
      "240/240 [==============================] - 0s 901us/step - loss: 158.0557\n",
      "Epoch 16/100\n",
      "240/240 [==============================] - 0s 894us/step - loss: 137.9962\n",
      "Epoch 17/100\n",
      "240/240 [==============================] - 0s 927us/step - loss: 118.7258\n",
      "Epoch 18/100\n",
      "240/240 [==============================] - 0s 892us/step - loss: 101.0945\n",
      "Epoch 19/100\n",
      "240/240 [==============================] - 0s 889us/step - loss: 85.8550\n",
      "Epoch 20/100\n",
      "240/240 [==============================] - 0s 930us/step - loss: 72.1680\n",
      "Epoch 21/100\n",
      "240/240 [==============================] - 0s 881us/step - loss: 60.9513\n",
      "Epoch 22/100\n",
      "240/240 [==============================] - 0s 955us/step - loss: 52.1079\n",
      "Epoch 23/100\n",
      "240/240 [==============================] - 0s 910us/step - loss: 45.3280\n",
      "Epoch 24/100\n",
      "240/240 [==============================] - 0s 1ms/step - loss: 40.0673\n",
      "Epoch 25/100\n",
      "240/240 [==============================] - 0s 1ms/step - loss: 36.5921\n",
      "Epoch 26/100\n",
      "240/240 [==============================] - 0s 1ms/step - loss: 34.0680\n",
      "Epoch 27/100\n",
      "240/240 [==============================] - 0s 1ms/step - loss: 32.4719\n",
      "Epoch 28/100\n",
      "240/240 [==============================] - 0s 1ms/step - loss: 31.1138\n",
      "Epoch 29/100\n",
      "240/240 [==============================] - 0s 1ms/step - loss: 30.5128\n",
      "Epoch 30/100\n",
      "240/240 [==============================] - 0s 1ms/step - loss: 29.7005\n",
      "Epoch 31/100\n",
      "240/240 [==============================] - 0s 1ms/step - loss: 29.3959\n",
      "Epoch 32/100\n",
      "240/240 [==============================] - 0s 1ms/step - loss: 28.8694\n",
      "Epoch 33/100\n",
      "240/240 [==============================] - 0s 1ms/step - loss: 29.0087\n",
      "Epoch 34/100\n",
      "240/240 [==============================] - 0s 1ms/step - loss: 28.6301\n",
      "Epoch 35/100\n",
      "240/240 [==============================] - 0s 1ms/step - loss: 28.7275\n",
      "Epoch 36/100\n",
      "240/240 [==============================] - 0s 958us/step - loss: 28.0695\n",
      "Epoch 37/100\n",
      "240/240 [==============================] - 0s 915us/step - loss: 27.8427\n",
      "Epoch 38/100\n",
      "240/240 [==============================] - 0s 945us/step - loss: 27.7734\n",
      "Epoch 39/100\n",
      "240/240 [==============================] - 0s 1ms/step - loss: 28.1117\n",
      "Epoch 40/100\n",
      "240/240 [==============================] - 0s 1ms/step - loss: 27.7676\n",
      "Epoch 41/100\n",
      "240/240 [==============================] - 0s 857us/step - loss: 28.1956\n",
      "Epoch 42/100\n",
      "240/240 [==============================] - 0s 900us/step - loss: 27.8918\n",
      "Epoch 43/100\n",
      "240/240 [==============================] - 0s 959us/step - loss: 27.9530\n",
      "Epoch 44/100\n",
      "240/240 [==============================] - 0s 984us/step - loss: 27.4216\n",
      "Epoch 45/100\n",
      "240/240 [==============================] - 0s 1ms/step - loss: 27.9315\n",
      "Epoch 46/100\n",
      "240/240 [==============================] - 0s 944us/step - loss: 28.0887\n",
      "Epoch 47/100\n",
      "240/240 [==============================] - 0s 843us/step - loss: 27.5587\n",
      "Epoch 48/100\n",
      "240/240 [==============================] - 0s 961us/step - loss: 27.6899\n",
      "Epoch 49/100\n",
      "240/240 [==============================] - 0s 865us/step - loss: 27.5189\n",
      "Epoch 50/100\n",
      "240/240 [==============================] - 0s 838us/step - loss: 27.3926\n",
      "Epoch 51/100\n",
      "240/240 [==============================] - 0s 960us/step - loss: 27.2744\n",
      "Epoch 52/100\n",
      "240/240 [==============================] - 0s 760us/step - loss: 27.0407\n",
      "Epoch 53/100\n",
      "240/240 [==============================] - 0s 820us/step - loss: 27.8399\n",
      "Epoch 54/100\n",
      "240/240 [==============================] - 0s 857us/step - loss: 27.4930\n",
      "Epoch 55/100\n",
      "240/240 [==============================] - 0s 709us/step - loss: 27.0848\n",
      "Epoch 56/100\n",
      "240/240 [==============================] - 0s 755us/step - loss: 28.0361\n",
      "Epoch 57/100\n",
      "240/240 [==============================] - 0s 781us/step - loss: 26.8006\n",
      "Epoch 58/100\n",
      "240/240 [==============================] - 0s 1ms/step - loss: 26.8899\n",
      "Epoch 59/100\n",
      "240/240 [==============================] - 0s 965us/step - loss: 26.7432\n",
      "Epoch 60/100\n",
      "240/240 [==============================] - 0s 729us/step - loss: 26.8589\n",
      "Epoch 61/100\n",
      "240/240 [==============================] - 0s 728us/step - loss: 27.5730\n",
      "Epoch 62/100\n",
      "240/240 [==============================] - 0s 865us/step - loss: 27.6687\n",
      "Epoch 63/100\n",
      "240/240 [==============================] - 0s 733us/step - loss: 26.9958\n",
      "Epoch 64/100\n",
      "240/240 [==============================] - 0s 771us/step - loss: 27.4442\n",
      "Epoch 65/100\n",
      "240/240 [==============================] - 0s 1ms/step - loss: 26.8920\n",
      "Epoch 66/100\n",
      "240/240 [==============================] - 0s 1ms/step - loss: 27.2583\n",
      "Epoch 67/100\n",
      "240/240 [==============================] - 0s 762us/step - loss: 27.0741\n",
      "Epoch 68/100\n",
      "240/240 [==============================] - 0s 862us/step - loss: 27.5101\n",
      "Epoch 69/100\n",
      "240/240 [==============================] - 0s 737us/step - loss: 26.7603\n",
      "Epoch 70/100\n",
      "240/240 [==============================] - 0s 752us/step - loss: 27.2725\n",
      "Epoch 71/100\n",
      "240/240 [==============================] - 0s 783us/step - loss: 26.7569\n",
      "Epoch 72/100\n",
      "240/240 [==============================] - 0s 737us/step - loss: 26.8802\n",
      "Epoch 73/100\n",
      "240/240 [==============================] - 0s 921us/step - loss: 27.4336\n",
      "Epoch 74/100\n",
      "240/240 [==============================] - 0s 780us/step - loss: 26.8235\n",
      "Epoch 75/100\n",
      "240/240 [==============================] - 0s 749us/step - loss: 26.6183\n",
      "Epoch 76/100\n",
      "240/240 [==============================] - 0s 791us/step - loss: 26.5743\n",
      "Epoch 77/100\n",
      "240/240 [==============================] - 0s 769us/step - loss: 27.0381\n",
      "Epoch 78/100\n",
      "240/240 [==============================] - 0s 775us/step - loss: 27.0843\n",
      "Epoch 79/100\n",
      "240/240 [==============================] - 0s 761us/step - loss: 26.9283\n",
      "Epoch 80/100\n",
      "240/240 [==============================] - 0s 756us/step - loss: 26.5616\n",
      "Epoch 81/100\n",
      "240/240 [==============================] - 0s 739us/step - loss: 27.0899\n",
      "Epoch 82/100\n",
      "240/240 [==============================] - 0s 782us/step - loss: 26.5394\n",
      "Epoch 83/100\n",
      "240/240 [==============================] - 0s 744us/step - loss: 26.7581\n",
      "Epoch 84/100\n",
      "240/240 [==============================] - 0s 762us/step - loss: 26.6811\n",
      "Epoch 85/100\n",
      "240/240 [==============================] - 0s 804us/step - loss: 26.8876\n",
      "Epoch 86/100\n",
      "240/240 [==============================] - 0s 747us/step - loss: 26.9982\n",
      "Epoch 87/100\n",
      "240/240 [==============================] - 0s 828us/step - loss: 26.8908\n",
      "Epoch 88/100\n",
      "240/240 [==============================] - 0s 742us/step - loss: 27.0197\n",
      "Epoch 89/100\n",
      "240/240 [==============================] - 0s 745us/step - loss: 26.7997\n",
      "Epoch 90/100\n",
      "240/240 [==============================] - 0s 788us/step - loss: 26.5652\n",
      "Epoch 91/100\n",
      "240/240 [==============================] - 0s 749us/step - loss: 27.1236\n",
      "Epoch 92/100\n",
      "240/240 [==============================] - 0s 756us/step - loss: 26.8715\n",
      "Epoch 93/100\n",
      "240/240 [==============================] - 0s 781us/step - loss: 27.0999\n",
      "Epoch 94/100\n",
      "240/240 [==============================] - 0s 746us/step - loss: 27.1490\n",
      "Epoch 95/100\n",
      "240/240 [==============================] - 0s 767us/step - loss: 26.3179\n",
      "Epoch 96/100\n"
     ]
    },
    {
     "name": "stdout",
     "output_type": "stream",
     "text": [
      "240/240 [==============================] - 0s 796us/step - loss: 26.7615\n",
      "Epoch 97/100\n",
      "240/240 [==============================] - 0s 720us/step - loss: 27.0053\n",
      "Epoch 98/100\n",
      "240/240 [==============================] - 0s 890us/step - loss: 27.0670\n",
      "Epoch 99/100\n",
      "240/240 [==============================] - 0s 940us/step - loss: 26.8368\n",
      "Epoch 100/100\n",
      "240/240 [==============================] - 0s 882us/step - loss: 26.9495\n"
     ]
    },
    {
     "data": {
      "text/plain": [
       "<keras.src.callbacks.History at 0x23a6a5e8100>"
      ]
     },
     "execution_count": 60,
     "metadata": {},
     "output_type": "execute_result"
    }
   ],
   "source": [
    "ann.fit(X_train, Y_train, batch_size = 32, epochs = 100)"
   ]
  },
  {
   "cell_type": "markdown",
   "id": "b23e1411",
   "metadata": {},
   "source": [
    "# Predict the results of the test set"
   ]
  },
  {
   "cell_type": "code",
   "execution_count": 62,
   "id": "29da0277",
   "metadata": {},
   "outputs": [
    {
     "name": "stdout",
     "output_type": "stream",
     "text": [
      "60/60 [==============================] - 0s 661us/step\n",
      "[[430.8 431.2]\n",
      " [462.  460. ]\n",
      " [465.5 461.1]\n",
      " ...\n",
      " [472.7 473.3]\n",
      " [439.6 438. ]\n",
      " [458.8 463.3]]\n"
     ]
    }
   ],
   "source": [
    "Y_pred = ann.predict(X_test)\n",
    "np.set_printoptions(precision =1)\n",
    "print(np.concatenate((Y_pred.reshape(len(Y_pred),1), Y_test.reshape(len(Y_test),1)),1))"
   ]
  },
  {
   "cell_type": "code",
   "execution_count": null,
   "id": "be6399f4",
   "metadata": {},
   "outputs": [],
   "source": []
  }
 ],
 "metadata": {
  "kernelspec": {
   "display_name": "Python 3 (ipykernel)",
   "language": "python",
   "name": "python3"
  },
  "language_info": {
   "codemirror_mode": {
    "name": "ipython",
    "version": 3
   },
   "file_extension": ".py",
   "mimetype": "text/x-python",
   "name": "python",
   "nbconvert_exporter": "python",
   "pygments_lexer": "ipython3",
   "version": "3.9.12"
  }
 },
 "nbformat": 4,
 "nbformat_minor": 5
}
